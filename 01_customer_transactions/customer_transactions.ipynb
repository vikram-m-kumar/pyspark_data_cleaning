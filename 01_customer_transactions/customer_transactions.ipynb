{
 "cells": [
  {
   "cell_type": "code",
   "execution_count": 0,
   "metadata": {
    "application/vnd.databricks.v1+cell": {
     "cellMetadata": {
      "byteLimit": 2048000,
      "rowLimit": 10000
     },
     "inputWidgets": {},
     "nuid": "9e590f3d-fba0-454c-b5b2-88c80780f402",
     "showTitle": false,
     "tableResultSettingsMap": {},
     "title": ""
    }
   },
   "outputs": [
    {
     "output_type": "stream",
     "name": "stdout",
     "output_type": "stream",
     "text": [
      "+-----------+-------------+------------------+------------+--------+----+--------------------+-----------------+--------------+\n|customer_id|         name|             email|country_code|phone_no| ext|             address|registration_date|loyalty_status|\n+-----------+-------------+------------------+------------+--------+----+--------------------+-----------------+--------------+\n|          1|Michelle Kidd|vayala@example.net|        NULL|    NULL|NULL|USNS Santiago, FP...|       2025-01-25|          Gold|\n+-----------+-------------+------------------+------------+--------+----+--------------------+-----------------+--------------+\nonly showing top 1 row\n"
     ]
    }
   ],
   "source": [
    "from pyspark.sql.functions import *\n",
    "df = spark.read.csv('/Volumes/my_catalog/source/pyspark_vol/us_customer_data_2.csv', header = True)\n",
    "df = df.withColumn('email', trim(regexp_replace(col('email'), r'\\s+', ' ')))\n",
    "df = df.withColumn('registration_date', to_date(col('registration_date')))\n",
    "df = df.withColumn('first_part', split(col('phone'), 'x')[0])\\\n",
    "    .withColumn('ext', \n",
    "                when(col('phone').contains('x'), \n",
    "                split(col('phone'), 'x')[1])\n",
    "    .otherwise(None))\n",
    "df = df.withColumn('first_part', regexp_replace(col('first_part'), r'\\D', ''))\n",
    "df = df.withColumn('country_code',\n",
    "                   expr(\"CASE WHEN length(first_part)>10 THEN substring(first_part, 1, length(first_part)-10) ELSE NULL END\"))\n",
    "\n",
    "df = df.withColumn('phone_no', \n",
    "                   expr(\"substring(first_part, length(first_part)-9, 10)\"))\n",
    "\n",
    "df = df.drop('first_part', 'phone')\n",
    "\n",
    "df = df.select('customer_id', 'name', 'email', 'country_code', 'phone_no', 'ext', 'address', 'registration_date', 'loyalty_status')\n",
    "df.show(1)"
   ]
  },
  {
   "cell_type": "code",
   "execution_count": 0,
   "metadata": {
    "application/vnd.databricks.v1+cell": {
     "cellMetadata": {
      "byteLimit": 2048000,
      "rowLimit": 10000
     },
     "inputWidgets": {},
     "nuid": "f87db466-464d-4e71-ac11-30f7ff28ff34",
     "showTitle": false,
     "tableResultSettingsMap": {},
     "title": ""
    }
   },
   "outputs": [
    {
     "output_type": "stream",
     "name": "stdout",
     "output_type": "stream",
     "text": [
      "+--------------+-----------+-------+----------------+----------------+--------------+--------------+\n|transaction_id|customer_id| amount|transaction_date|product_category|payment_method|store_location|\n+--------------+-----------+-------+----------------+----------------+--------------+--------------+\n|             1|        565|2992.47|      2025-03-10|          Sports|    Debit Card|      New York|\n+--------------+-----------+-------+----------------+----------------+--------------+--------------+\nonly showing top 1 row\n"
     ]
    }
   ],
   "source": [
    "df2 = spark.read.csv('/Volumes/my_catalog/source/pyspark_vol/transaction_data_1.csv', header = True)\n",
    "df2 = df2.withColumn(\"amount\", col('amount').cast('double'))\n",
    "df2 = df2.withColumn(\"transaction_date\", to_date(\"transaction_date\"))\n",
    "df2.show(1)"
   ]
  },
  {
   "cell_type": "code",
   "execution_count": 0,
   "metadata": {
    "application/vnd.databricks.v1+cell": {
     "cellMetadata": {
      "byteLimit": 2048000,
      "rowLimit": 10000
     },
     "inputWidgets": {},
     "nuid": "cde237cd-36ae-45d0-846a-fd2b147f5401",
     "showTitle": false,
     "tableResultSettingsMap": {},
     "title": ""
    }
   },
   "outputs": [
    {
     "output_type": "stream",
     "name": "stdout",
     "output_type": "stream",
     "text": [
      "+-----------+----------------+--------------------+------------+----------+-----+--------------------+-----------------+--------------+--------------+-------+----------------+----------------+--------------+--------------+\n|customer_id|            name|               email|country_code|  phone_no|  ext|             address|registration_date|loyalty_status|transaction_id| amount|transaction_date|product_category|payment_method|store_location|\n+-----------+----------------+--------------------+------------+----------+-----+--------------------+-----------------+--------------+--------------+-------+----------------+----------------+--------------+--------------+\n|          1|   Michelle Kidd|  vayala@example.net|        NULL|      NULL| NULL|USNS Santiago, FP...|       2025-01-25|          Gold|             8|2652.57|      2025-04-19|            Home|   Credit Card|      New York|\n|          4|  Kimberly Price|jessicaknight@exa...|         001|9476334224|07930|1631 Alexis Meado...|       2024-12-08|          Gold|           427|1787.09|      2025-04-28|          Beauty|        PayPal|       Chicago|\n|          5|Matthew Phillips|qwilliams@example...|         001|8696505682| 8385|2274 Williams Hei...|       2024-02-03|          Gold|           452|1983.52|      2025-02-03|          Sports|        PayPal|        Online|\n|          7|    Louis Miller|patriciaelliott@e...|         001|4189314146|  588|02590 Marshall We...|       2024-09-30|          Gold|           857| 697.57|      2025-06-13|          Beauty|    Debit Card|       Chicago|\n|          9|  Matthew Harvey| bgaines@example.net|        NULL|7108544550| NULL|60123 Davis Ford,...|       2024-10-31|        Silver|           300| 918.34|      2025-05-07|     Electronics|        PayPal|         Miami|\n+-----------+----------------+--------------------+------------+----------+-----+--------------------+-----------------+--------------+--------------+-------+----------------+----------------+--------------+--------------+\nonly showing top 5 rows\n"
     ]
    }
   ],
   "source": [
    "df3 = df.join(df2, on = 'customer_id', how = 'inner')\n",
    "df3.show(5)"
   ]
  },
  {
   "cell_type": "code",
   "execution_count": 0,
   "metadata": {
    "application/vnd.databricks.v1+cell": {
     "cellMetadata": {
      "byteLimit": 2048000,
      "rowLimit": 10000
     },
     "inputWidgets": {},
     "nuid": "00cd13c6-93eb-44b3-8f71-267cf21159b7",
     "showTitle": false,
     "tableResultSettingsMap": {},
     "title": ""
    }
   },
   "outputs": [],
   "source": [
    "df3.createOrReplaceTempView('customer')"
   ]
  },
  {
   "cell_type": "code",
   "execution_count": 0,
   "metadata": {
    "application/vnd.databricks.v1+cell": {
     "cellMetadata": {
      "byteLimit": 2048000,
      "implicitDf": true,
      "rowLimit": 10000
     },
     "inputWidgets": {},
     "nuid": "e3e20bd9-fbe3-418e-988d-015f344baba4",
     "showTitle": false,
     "tableResultSettingsMap": {},
     "title": ""
    }
   },
   "outputs": [
    {
     "output_type": "display_data",
     "data": {
      "text/html": [
       "<style scoped>\n",
       "  .table-result-container {\n",
       "    max-height: 300px;\n",
       "    overflow: auto;\n",
       "  }\n",
       "  table, th, td {\n",
       "    border: 1px solid black;\n",
       "    border-collapse: collapse;\n",
       "  }\n",
       "  th, td {\n",
       "    padding: 5px;\n",
       "  }\n",
       "  th {\n",
       "    text-align: left;\n",
       "  }\n",
       "</style><div class='table-result-container'><table class='table-result'><thead style='background-color: white'><tr><th>payment_method</th><th>revenue</th></tr></thead><tbody><tr><td>Debit Card</td><td>635175.45</td></tr><tr><td>Credit Card</td><td>595437.25</td></tr><tr><td>Cash</td><td>593727.99</td></tr><tr><td>PayPal</td><td>581581.93</td></tr></tbody></table></div>"
      ]
     },
     "metadata": {
      "application/vnd.databricks.v1+output": {
       "addedWidgets": {},
       "aggData": [],
       "aggError": "",
       "aggOverflow": false,
       "aggSchema": [],
       "aggSeriesLimitReached": false,
       "aggType": "",
       "arguments": {},
       "columnCustomDisplayInfos": {},
       "data": [
        [
         "Debit Card",
         635175.45
        ],
        [
         "Credit Card",
         595437.25
        ],
        [
         "Cash",
         593727.99
        ],
        [
         "PayPal",
         581581.93
        ]
       ],
       "datasetInfos": [
        {
         "name": "_sqldf",
         "schema": {
          "fields": [
           {
            "metadata": {},
            "name": "payment_method",
            "nullable": true,
            "type": "string"
           },
           {
            "metadata": {},
            "name": "revenue",
            "nullable": true,
            "type": "double"
           }
          ],
          "type": "struct"
         },
         "tableIdentifier": null,
         "typeStr": "pyspark.sql.connect.dataframe.DataFrame"
        }
       ],
       "dbfsResultPath": null,
       "isJsonSchema": true,
       "metadata": {
        "createTempViewForImplicitDf": true,
        "dataframeName": "_sqldf",
        "executionCount": 71
       },
       "overflow": false,
       "plotOptions": {
        "customPlotOptions": {},
        "displayType": "table",
        "pivotAggregation": null,
        "pivotColumns": null,
        "xColumns": null,
        "yColumns": null
       },
       "removedWidgets": [],
       "schema": [
        {
         "metadata": "{}",
         "name": "payment_method",
         "type": "\"string\""
        },
        {
         "metadata": "{}",
         "name": "revenue",
         "type": "\"double\""
        }
       ],
       "type": "table"
      }
     },
     "output_type": "display_data"
    }
   ],
   "source": [
    "%sql\n",
    "select \n",
    "  payment_method, \n",
    "  round(sum(amount), 2) as revenue \n",
    "from customer\n",
    "group by payment_method\n",
    "order by revenue desc;"
   ]
  }
 ],
 "metadata": {
  "application/vnd.databricks.v1+notebook": {
   "computePreferences": null,
   "dashboards": [],
   "environmentMetadata": {
    "base_environment": "",
    "environment_version": "4"
   },
   "inputWidgetPreferences": null,
   "language": "python",
   "notebookMetadata": {
    "mostRecentlyExecutedCommandWithImplicitDF": {
     "commandId": 4515159568957115,
     "dataframes": [
      "_sqldf"
     ]
    },
    "pythonIndentUnit": 4
   },
   "notebookName": "Untitled Notebook 2025-10-24 19:21:25",
   "widgets": {}
  },
  "language_info": {
   "name": "python"
  }
 },
 "nbformat": 4,
 "nbformat_minor": 0
}